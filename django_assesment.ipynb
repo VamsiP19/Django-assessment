{
  "nbformat": 4,
  "nbformat_minor": 0,
  "metadata": {
    "colab": {
      "provenance": []
    },
    "kernelspec": {
      "name": "python3",
      "display_name": "Python 3"
    },
    "language_info": {
      "name": "python"
    }
  },
  "cells": [
    {
      "cell_type": "code",
      "execution_count": 1,
      "metadata": {
        "colab": {
          "base_uri": "https://localhost:8080/"
        },
        "id": "5vhFAWedsaTr",
        "outputId": "6b730e5c-9421-4a03-ad94-9a4682f51fde"
      },
      "outputs": [
        {
          "output_type": "stream",
          "name": "stdout",
          "text": [
            "Requirement already satisfied: Flask in /usr/local/lib/python3.10/dist-packages (2.2.5)\n",
            "Collecting pyngrok\n",
            "  Downloading pyngrok-7.2.0-py3-none-any.whl.metadata (7.4 kB)\n",
            "Requirement already satisfied: pytz in /usr/local/lib/python3.10/dist-packages (2024.2)\n",
            "Requirement already satisfied: Werkzeug>=2.2.2 in /usr/local/lib/python3.10/dist-packages (from Flask) (3.0.4)\n",
            "Requirement already satisfied: Jinja2>=3.0 in /usr/local/lib/python3.10/dist-packages (from Flask) (3.1.4)\n",
            "Requirement already satisfied: itsdangerous>=2.0 in /usr/local/lib/python3.10/dist-packages (from Flask) (2.2.0)\n",
            "Requirement already satisfied: click>=8.0 in /usr/local/lib/python3.10/dist-packages (from Flask) (8.1.7)\n",
            "Requirement already satisfied: PyYAML>=5.1 in /usr/local/lib/python3.10/dist-packages (from pyngrok) (6.0.2)\n",
            "Requirement already satisfied: MarkupSafe>=2.0 in /usr/local/lib/python3.10/dist-packages (from Jinja2>=3.0->Flask) (3.0.1)\n",
            "Downloading pyngrok-7.2.0-py3-none-any.whl (22 kB)\n",
            "Installing collected packages: pyngrok\n",
            "Successfully installed pyngrok-7.2.0\n"
          ]
        }
      ],
      "source": [
        "!pip install Flask pyngrok pytz"
      ]
    },
    {
      "cell_type": "code",
      "source": [
        "from pyngrok import ngrok\n",
        "ngrok.set_auth_token('2neAsXvsJTO6IBDjeBSz7a6deRh_5KLLzBiwwHeTBXRcpHTmx')"
      ],
      "metadata": {
        "id": "qhag_CkBt_zh"
      },
      "execution_count": 4,
      "outputs": []
    },
    {
      "cell_type": "code",
      "source": [
        "from flask import Flask, render_template_string\n",
        "import os\n",
        "import subprocess\n",
        "from datetime import datetime\n",
        "import pytz\n",
        "\n",
        "app = Flask(__name__)\n",
        "\n",
        "@app.route('/htop')\n",
        "def htop():\n",
        "    # Get the system username\n",
        "    username = os.getlogin()\n",
        "\n",
        "    # Get the server time in IST\n",
        "    ist = pytz.timezone('Asia/Kolkata')\n",
        "    server_time = datetime.now(ist).strftime('%Y-%m-%d %H:%M:%S')\n",
        "\n",
        "    # Get the top output\n",
        "    top_output = subprocess.run(['top', '-b', '-n', '1'], capture_output=True, text=True)\n",
        "\n",
        "    # Create a simple HTML template to display the information\n",
        "    html_template = f\"\"\"\n",
        "    <html>\n",
        "        <head>\n",
        "            <title>System Information</title>\n",
        "        </head>\n",
        "        <body>\n",
        "            <h1>System Information</h1>\n",
        "            <p><strong>Name:</strong> Your Full Name</p>\n",
        "            <p><strong>Username:</strong> {username}</p>\n",
        "            <p><strong>Server Time (IST):</strong> {server_time}</p>\n",
        "            <h2>Top Output:</h2>\n",
        "            <pre>{top_output.stdout}</pre>\n",
        "        </body>\n",
        "    </html>\n",
        "    \"\"\"\n",
        "\n",
        "    return render_template_string(html_template)\n",
        "\n",
        "# Set up a tunnel to the Flask app\n",
        "public_url = ngrok.connect(5000)\n",
        "print(\" * ngrok tunnel \\\"{}\\\" -> \\\"http://127.0.0.1:5000\\\"\".format(public_url))\n",
        "\n",
        "# Run the Flask app\n",
        "app.run(port=5000)\n"
      ],
      "metadata": {
        "colab": {
          "base_uri": "https://localhost:8080/"
        },
        "id": "zU0DQuljuGUX",
        "outputId": "9f5ebe01-03e0-4a4f-95f0-46caf42901fb"
      },
      "execution_count": null,
      "outputs": [
        {
          "output_type": "stream",
          "name": "stdout",
          "text": [
            " * ngrok tunnel \"NgrokTunnel: \"https://fabb-34-121-19-143.ngrok-free.app\" -> \"http://localhost:5000\"\" -> \"http://127.0.0.1:5000\"\n",
            " * Serving Flask app '__main__'\n",
            " * Debug mode: off\n"
          ]
        },
        {
          "output_type": "stream",
          "name": "stderr",
          "text": [
            "INFO:werkzeug:\u001b[31m\u001b[1mWARNING: This is a development server. Do not use it in a production deployment. Use a production WSGI server instead.\u001b[0m\n",
            " * Running on http://127.0.0.1:5000\n",
            "INFO:werkzeug:\u001b[33mPress CTRL+C to quit\u001b[0m\n",
            "INFO:werkzeug:127.0.0.1 - - [19/Oct/2024 07:41:20] \"\u001b[33mGET / HTTP/1.1\u001b[0m\" 404 -\n"
          ]
        }
      ]
    },
    {
      "cell_type": "code",
      "source": [],
      "metadata": {
        "id": "8zQrsAk3stGz"
      },
      "execution_count": null,
      "outputs": []
    }
  ]
}